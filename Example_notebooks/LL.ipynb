{
 "cells": [
  {
   "cell_type": "markdown",
   "id": "59572031",
   "metadata": {},
   "source": [
    "# sample workflow for Liquid-liquid interface\n",
    "\n",
    "I use LL.in from dir ../namics/inputs. I make a few changes. Store the file locally in LL_.in. Then I run the problem using 'namics' stored in ../namics/inputs. The program saves the results locally in the output folder. Then I load the 'profile data' and plot the 'density profiles'. \n",
    "\n",
    "methods to automate the 'handle' of input_file:\n",
    "\n",
    "df=insert(inx,df,typ,name,prop,val)\n",
    "\n",
    "df=append(df,type,name,prop,val)\n",
    "\n",
    "df=delete(idx,df)\n",
    "\n",
    "df=comment(idx,df)\n",
    "\n",
    "df=uncomment(idx,df)\n",
    "\n",
    "df=puttype(idx,df,value)\n",
    "\n",
    "df=putname(idx,df,value)\n",
    "\n",
    "df=putprop(idx,df,value)\n",
    "\n",
    "df=putvalue(idx,df,value)"
   ]
  },
  {
   "cell_type": "code",
   "execution_count": 61,
   "id": "b4d0d104",
   "metadata": {
    "scrolled": true
   },
   "outputs": [],
   "source": [
    "import pandas as pd\n",
    "import matplotlib.pyplot as plt\n",
    "import numpy as np\n",
    "\n",
    "def insert(idx,df,typ,name,prop,val): \n",
    "    dfA = df.iloc[:idx,] \n",
    "    dfB = df.iloc[idx:,]\n",
    "    line=df.iloc[-1]\n",
    "    line[0]=typ\n",
    "    line[1]=name\n",
    "    line[2]=prop\n",
    "    line[3]=val\n",
    "    df = dfA.append(line).append(dfB).reset_index(drop = True) \n",
    "    return df\n",
    "def append(df,typ,name,prop,val):\n",
    "    idx = df.index\n",
    "    number = len(idx)\n",
    "    dfA = df.iloc[:number,] \n",
    "    dfB = df.iloc[number:,]\n",
    "    line=df.iloc[-1]\n",
    "    line[0]=typ\n",
    "    line[1]=name\n",
    "    line[2]=prop\n",
    "    line[3]=val\n",
    "    df = dfA.append(line).append(dfB).reset_index(drop=True)\n",
    "    line=df.iloc[-1]\n",
    "    line[0]=\"//ignore\"\n",
    "    line[1]=\"\"\n",
    "    line[2]=\"\"\n",
    "    line[3]=\"\"\n",
    "    df = dfA.append(line).append(dfB).reset_index(drop=True)\n",
    "    return df\n",
    "def delete(idx,df):\n",
    "    dfA=df.iloc[:idx,]\n",
    "    dfB=df.iloc[idx+1:,]\n",
    "    df=dfA.append(dfB).reset_index(drop=True)\n",
    "    return df\n",
    "def comment(idx,df):\n",
    "    line=df.iloc[idx]\n",
    "    x=line[0]\n",
    "    x=\"//\"+x\n",
    "    line[0]=x\n",
    "    return df\n",
    "def uncomment(idx,df):\n",
    "    line=df.iloc[idx]\n",
    "    x=line[0]\n",
    "    x=x[2:]\n",
    "    line[0]=x\n",
    "    return df\n",
    "def putvalue(idx,df,value):\n",
    "    line=df.iloc[idx]\n",
    "    line[3]=value\n",
    "    return df\n",
    "def puttype(idx,df,value):\n",
    "    line=df.iloc[idx]\n",
    "    line[0]=value\n",
    "    return df\n",
    "def putname(idx,df,value):\n",
    "    line=df.iloc[idx]\n",
    "    line[1]=value\n",
    "    return df\n",
    "def putprop(idx,df,value):\n",
    "    line=df.iloc[idx]\n",
    "    line[2]=value\n",
    "    return df\n"
   ]
  },
  {
   "cell_type": "code",
   "execution_count": 78,
   "id": "8777af16",
   "metadata": {
    "scrolled": true
   },
   "outputs": [],
   "source": [
    "input=pd.read_csv(\"../namics/inputs/LL.in\",sep=':',header=None)\n",
    "#input"
   ]
  },
  {
   "cell_type": "code",
   "execution_count": 67,
   "id": "43053290",
   "metadata": {},
   "outputs": [],
   "source": [
    "input.to_csv(\"LL_.in\",sep=':',header=False,index=False)"
   ]
  },
  {
   "cell_type": "code",
   "execution_count": 49,
   "id": "a1df524e",
   "metadata": {
    "scrolled": true
   },
   "outputs": [],
   "source": [
    "\n",
    "!../namics/inputs//namics LL_.in > LL_.out\n"
   ]
  },
  {
   "cell_type": "code",
   "execution_count": 76,
   "id": "1b127002",
   "metadata": {
    "scrolled": true
   },
   "outputs": [],
   "source": [
    "#ls output\n"
   ]
  },
  {
   "cell_type": "code",
   "execution_count": 80,
   "id": "b52c002a",
   "metadata": {},
   "outputs": [],
   "source": [
    "pro1=pd.read_csv(\"output/LL__1_3.pro\",sep='\\t')\n",
    "pro2=pd.read_csv(\"output/LL__4_3.pro\",sep='\\t')\n",
    "#pro1.head()\n",
    "#pro2.head()"
   ]
  },
  {
   "cell_type": "code",
   "execution_count": 55,
   "id": "1b6cf677",
   "metadata": {
    "scrolled": true
   },
   "outputs": [
    {
     "data": {
      "image/png": "[encoded data removed]",
      "text/plain": [
       "<Figure size 432x288 with 1 Axes>"
      ]
     },
     "metadata": {
      "needs_background": "light"
     },
     "output_type": "display_data"
    }
   ],
   "source": [
    "\n",
    "plt.plot(pro1.x,pro1.mon_A_phi,label='A')\n",
    "plt.plot(pro1.x,pro1.mon_B_phi,label='B')\n",
    "plt.plot(pro2.x,pro2.mon_A_phi,label='A')\n",
    "plt.plot(pro2.x,pro2.mon_B_phi,label='B')\n",
    "plt.xlabel(\"$x$\",fontsize=14)\n",
    "plt.ylabel(r'$\\mathit{\\varphi}$',fontsize=12,rotation=0)\n",
    "plt.legend(loc=\"best\")\n",
    "plt.show()\n",
    "\n"
   ]
  },
  {
   "cell_type": "code",
   "execution_count": 132,
   "id": "e6352003",
   "metadata": {},
   "outputs": [
    {
     "data": {
      "text/html": [
       "<div>\n",
       "<style scoped>\n",
       "    .dataframe tbody tr th:only-of-type {\n",
       "        vertical-align: middle;\n",
       "    }\n",
       "\n",
       "    .dataframe tbody tr th {\n",
       "        vertical-align: top;\n",
       "    }\n",
       "\n",
       "    .dataframe thead th {\n",
       "        text-align: right;\n",
       "    }\n",
       "</style>\n",
       "<table border=\"1\" class=\"dataframe\">\n",
       "  <thead>\n",
       "    <tr style=\"text-align: right;\">\n",
       "      <th></th>\n",
       "      <th>mon_A_chi_B</th>\n",
       "      <th>sys_L_grand_potential</th>\n",
       "      <th>mol_A_width</th>\n",
       "      <th>mol_A_phi(1)</th>\n",
       "      <th>mol_A_phibulk</th>\n",
       "    </tr>\n",
       "  </thead>\n",
       "  <tbody>\n",
       "    <tr>\n",
       "      <th>0</th>\n",
       "      <td>0.80</td>\n",
       "      <td>0.125945</td>\n",
       "      <td>2.737345</td>\n",
       "      <td>0.945322</td>\n",
       "      <td>0.054678</td>\n",
       "    </tr>\n",
       "    <tr>\n",
       "      <th>1</th>\n",
       "      <td>0.79</td>\n",
       "      <td>0.121196</td>\n",
       "      <td>2.765758</td>\n",
       "      <td>0.942488</td>\n",
       "      <td>0.057512</td>\n",
       "    </tr>\n",
       "    <tr>\n",
       "      <th>2</th>\n",
       "      <td>0.78</td>\n",
       "      <td>0.116439</td>\n",
       "      <td>2.796037</td>\n",
       "      <td>0.939480</td>\n",
       "      <td>0.060520</td>\n",
       "    </tr>\n",
       "    <tr>\n",
       "      <th>3</th>\n",
       "      <td>0.77</td>\n",
       "      <td>0.111674</td>\n",
       "      <td>2.828365</td>\n",
       "      <td>0.936287</td>\n",
       "      <td>0.063714</td>\n",
       "    </tr>\n",
       "    <tr>\n",
       "      <th>4</th>\n",
       "      <td>0.76</td>\n",
       "      <td>0.106903</td>\n",
       "      <td>2.862951</td>\n",
       "      <td>0.932892</td>\n",
       "      <td>0.067108</td>\n",
       "    </tr>\n",
       "  </tbody>\n",
       "</table>\n",
       "</div>"
      ],
      "text/plain": [
       "   mon_A_chi_B  sys_L_grand_potential  mol_A_width  mol_A_phi(1)  \\\n",
       "0         0.80               0.125945     2.737345      0.945322   \n",
       "1         0.79               0.121196     2.765758      0.942488   \n",
       "2         0.78               0.116439     2.796037      0.939480   \n",
       "3         0.77               0.111674     2.828365      0.936287   \n",
       "4         0.76               0.106903     2.862951      0.932892   \n",
       "\n",
       "   mol_A_phibulk  \n",
       "0       0.054678  \n",
       "1       0.057512  \n",
       "2       0.060520  \n",
       "3       0.063714  \n",
       "4       0.067108  "
      ]
     },
     "execution_count": 132,
     "metadata": {},
     "output_type": "execute_result"
    }
   ],
   "source": [
    "kal=pd.read_csv(\"output/LL_.kal\",sep='\\t')\n",
    "kal.head()"
   ]
  },
  {
   "cell_type": "code",
   "execution_count": 135,
   "id": "a5f5ca51",
   "metadata": {},
   "outputs": [],
   "source": [
    "A=kal['mol_A_phi(1)']\n",
    "B=kal['mol_A_phibulk']\n",
    "kal[\"phi_1_phibulk\"]=(A-B)"
   ]
  },
  {
   "cell_type": "code",
   "execution_count": 150,
   "id": "55bd2fdc",
   "metadata": {},
   "outputs": [
    {
     "data": {
      "text/plain": [
       "0.9394802"
      ]
     },
     "execution_count": 150,
     "metadata": {},
     "output_type": "execute_result"
    }
   ],
   "source": [
    "xx=kal.mon_A_chi_B[3]\n",
    "\n",
    "A[2]\n"
   ]
  },
  {
   "cell_type": "code",
   "execution_count": 145,
   "id": "922c57bf",
   "metadata": {
    "scrolled": true
   },
   "outputs": [
    {
     "data": {
      "text/plain": [
       "2.862951084923116"
      ]
     },
     "execution_count": 145,
     "metadata": {},
     "output_type": "execute_result"
    }
   ],
   "source": [
    "#kal.rename(columns={'phi_1_phibulk':'phi_1_min_phibulk'},inplace=True)\n",
    "kal.head()"
   ]
  },
  {
   "cell_type": "code",
   "execution_count": 74,
   "id": "f345b14f",
   "metadata": {
    "collapsed": true
   },
   "outputs": [
    {
     "data": {
      "image/png": "[encoded data removed]",
      "text/plain": [
       "<Figure size 432x288 with 1 Axes>"
      ]
     },
     "metadata": {
      "needs_background": "light"
     },
     "output_type": "display_data"
    }
   ],
   "source": [
    "\n",
    "plt.plot(np.log(kal.mon_A_chi_B-0.5),np.log(kal.sys_L_grand_potential))\n",
    "plt.xlabel(r'$\\mathrm{ln} \\chi$',fontsize=14)\n",
    "plt.ylabel(r'$\\mathrm{ln} \\Omega$',fontsize=14,rotation=0)\n",
    "plt.show()"
   ]
  },
  {
   "cell_type": "code",
   "execution_count": 124,
   "id": "a4172066",
   "metadata": {},
   "outputs": [
    {
     "data": {
      "image/png": "[encoded data removed]",
      "text/plain": [
       "<Figure size 432x288 with 1 Axes>"
      ]
     },
     "metadata": {
      "needs_background": "light"
     },
     "output_type": "display_data"
    }
   ],
   "source": [
    "plt.loglog(kal.mon_A_chi_B-0.5,kal.sys_L_grand_potential,label=r'$\\Omega$')\n",
    "plt.loglog(kal.mon_A_chi_B-0.5,kal.mol_A_width,label='W')\n",
    "plt.loglog(kal.mon_A_chi_B-0.5,kal.phi_1_phibulk,label=r'$\\Delta \\phi$')\n",
    "plt.xlabel(r'$\\Delta \\chi$',fontsize=14)\n",
    "#plt.ylabel(r'$\\Omega$',fontsize=14,rotation=0)\n",
    "plt.legend(loc=\"best\")\n",
    "plt.show()"
   ]
  },
  {
   "cell_type": "code",
   "execution_count": null,
   "id": "cd6cdc3d",
   "metadata": {},
   "outputs": [],
   "source": []
  }
 ],
 "metadata": {
  "kernelspec": {
   "display_name": "Python 3 (ipykernel)",
   "language": "python",
   "name": "python3"
  },
  "language_info": {
   "codemirror_mode": {
    "name": "ipython",
    "version": 3
   },
   "file_extension": ".py",
   "mimetype": "text/x-python",
   "name": "python",
   "nbconvert_exporter": "python",
   "pygments_lexer": "ipython3",
   "version": "3.8.10"
  }
 },
 "nbformat": 4,
 "nbformat_minor": 5
}
